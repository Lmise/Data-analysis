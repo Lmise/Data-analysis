{
 "metadata": {
  "language_info": {
   "codemirror_mode": {
    "name": "ipython",
    "version": 3
   },
   "file_extension": ".py",
   "mimetype": "text/x-python",
   "name": "python",
   "nbconvert_exporter": "python",
   "pygments_lexer": "ipython3",
   "version": "3.9.4"
  },
  "orig_nbformat": 2,
  "kernelspec": {
   "name": "python394jvsc74a57bd07da1eb149bf3497be8a6516bf60d71e91bb1fe5477f8de5e35f773c6a2ac0b77",
   "display_name": "Python 3.9.4 64-bit"
  },
  "metadata": {
   "interpreter": {
    "hash": "7da1eb149bf3497be8a6516bf60d71e91bb1fe5477f8de5e35f773c6a2ac0b77"
   }
  }
 },
 "nbformat": 4,
 "nbformat_minor": 2,
 "cells": [
  {
   "cell_type": "code",
   "execution_count": 2,
   "metadata": {},
   "outputs": [],
   "source": [
    "import pandas as pd \n",
    "import numpy as np\n"
   ]
  },
  {
   "cell_type": "code",
   "execution_count": 3,
   "metadata": {},
   "outputs": [],
   "source": [
    "df = pd.DataFrame(np.random.randint(0, 100, size=(15, 4)), columns=list(\"ABCD\"))"
   ]
  },
  {
   "cell_type": "code",
   "execution_count": 4,
   "metadata": {},
   "outputs": [
    {
     "output_type": "execute_result",
     "data": {
      "text/plain": [
       "    A   B   C   D\n",
       "0   8  80  64  45\n",
       "1  50  75   9  80\n",
       "2  41  85  32  83\n",
       "3  97  95  67  16\n",
       "4  10   6  19  59"
      ],
      "text/html": "<div>\n<style scoped>\n    .dataframe tbody tr th:only-of-type {\n        vertical-align: middle;\n    }\n\n    .dataframe tbody tr th {\n        vertical-align: top;\n    }\n\n    .dataframe thead th {\n        text-align: right;\n    }\n</style>\n<table border=\"1\" class=\"dataframe\">\n  <thead>\n    <tr style=\"text-align: right;\">\n      <th></th>\n      <th>A</th>\n      <th>B</th>\n      <th>C</th>\n      <th>D</th>\n    </tr>\n  </thead>\n  <tbody>\n    <tr>\n      <th>0</th>\n      <td>8</td>\n      <td>80</td>\n      <td>64</td>\n      <td>45</td>\n    </tr>\n    <tr>\n      <th>1</th>\n      <td>50</td>\n      <td>75</td>\n      <td>9</td>\n      <td>80</td>\n    </tr>\n    <tr>\n      <th>2</th>\n      <td>41</td>\n      <td>85</td>\n      <td>32</td>\n      <td>83</td>\n    </tr>\n    <tr>\n      <th>3</th>\n      <td>97</td>\n      <td>95</td>\n      <td>67</td>\n      <td>16</td>\n    </tr>\n    <tr>\n      <th>4</th>\n      <td>10</td>\n      <td>6</td>\n      <td>19</td>\n      <td>59</td>\n    </tr>\n  </tbody>\n</table>\n</div>"
     },
     "metadata": {},
     "execution_count": 4
    }
   ],
   "source": [
    "df.head()"
   ]
  },
  {
   "cell_type": "code",
   "execution_count": 7,
   "metadata": {},
   "outputs": [
    {
     "output_type": "execute_result",
     "data": {
      "text/plain": [
       "<pandas.io.formats.style.Styler at 0x1cfd4319b80>"
      ],
      "text/html": "<style  type=\"text/css\" >\n#T_f4ad5_row0_col0,#T_f4ad5_row5_col2,#T_f4ad5_row8_col1,#T_f4ad5_row13_col3{\n            background-color:  #fff5f0;\n            color:  #000000;\n        }#T_f4ad5_row0_col1{\n            background-color:  #b01217;\n            color:  #f1f1f1;\n        }#T_f4ad5_row0_col2{\n            background-color:  #ee3a2c;\n            color:  #f1f1f1;\n        }#T_f4ad5_row0_col3{\n            background-color:  #fc8969;\n            color:  #000000;\n        }#T_f4ad5_row1_col0,#T_f4ad5_row5_col0,#T_f4ad5_row9_col0{\n            background-color:  #fb7555;\n            color:  #000000;\n        }#T_f4ad5_row1_col1{\n            background-color:  #c1161b;\n            color:  #f1f1f1;\n        }#T_f4ad5_row1_col2,#T_f4ad5_row4_col0{\n            background-color:  #fff2eb;\n            color:  #000000;\n        }#T_f4ad5_row1_col3{\n            background-color:  #b51318;\n            color:  #f1f1f1;\n        }#T_f4ad5_row2_col0{\n            background-color:  #fc9576;\n            color:  #000000;\n        }#T_f4ad5_row2_col1{\n            background-color:  #9c0d14;\n            color:  #f1f1f1;\n        }#T_f4ad5_row2_col2{\n            background-color:  #fcb398;\n            color:  #000000;\n        }#T_f4ad5_row2_col3{\n            background-color:  #aa1016;\n            color:  #f1f1f1;\n        }#T_f4ad5_row3_col0{\n            background-color:  #6b010e;\n            color:  #f1f1f1;\n        }#T_f4ad5_row3_col1,#T_f4ad5_row8_col3,#T_f4ad5_row13_col2,#T_f4ad5_row14_col0{\n            background-color:  #67000d;\n            color:  #f1f1f1;\n        }#T_f4ad5_row3_col2{\n            background-color:  #e53228;\n            color:  #f1f1f1;\n        }#T_f4ad5_row3_col3,#T_f4ad5_row7_col3{\n            background-color:  #ffebe2;\n            color:  #000000;\n        }#T_f4ad5_row4_col1,#T_f4ad5_row8_col0{\n            background-color:  #fff0e8;\n            color:  #000000;\n        }#T_f4ad5_row4_col2{\n            background-color:  #fedfd0;\n            color:  #000000;\n        }#T_f4ad5_row4_col3{\n            background-color:  #f44f39;\n            color:  #000000;\n        }#T_f4ad5_row5_col1{\n            background-color:  #ed392b;\n            color:  #f1f1f1;\n        }#T_f4ad5_row5_col3{\n            background-color:  #e02c26;\n            color:  #f1f1f1;\n        }#T_f4ad5_row6_col0{\n            background-color:  #f44d38;\n            color:  #000000;\n        }#T_f4ad5_row6_col1,#T_f4ad5_row13_col1{\n            background-color:  #8c0912;\n            color:  #f1f1f1;\n        }#T_f4ad5_row6_col2{\n            background-color:  #860811;\n            color:  #f1f1f1;\n        }#T_f4ad5_row6_col3{\n            background-color:  #fdcdb9;\n            color:  #000000;\n        }#T_f4ad5_row7_col0,#T_f4ad5_row11_col3{\n            background-color:  #fcaf93;\n            color:  #000000;\n        }#T_f4ad5_row7_col1{\n            background-color:  #da2723;\n            color:  #f1f1f1;\n        }#T_f4ad5_row7_col2{\n            background-color:  #ffece3;\n            color:  #000000;\n        }#T_f4ad5_row8_col2{\n            background-color:  #fdd4c2;\n            color:  #000000;\n        }#T_f4ad5_row9_col1{\n            background-color:  #fdcbb6;\n            color:  #000000;\n        }#T_f4ad5_row9_col2,#T_f4ad5_row12_col2{\n            background-color:  #fdc7b2;\n            color:  #000000;\n        }#T_f4ad5_row9_col3{\n            background-color:  #ad1117;\n            color:  #f1f1f1;\n        }#T_f4ad5_row10_col0{\n            background-color:  #f0402f;\n            color:  #f1f1f1;\n        }#T_f4ad5_row10_col1{\n            background-color:  #c8171c;\n            color:  #f1f1f1;\n        }#T_f4ad5_row10_col2{\n            background-color:  #d21f20;\n            color:  #f1f1f1;\n        }#T_f4ad5_row10_col3{\n            background-color:  #bf151b;\n            color:  #f1f1f1;\n        }#T_f4ad5_row11_col0{\n            background-color:  #fb7858;\n            color:  #000000;\n        }#T_f4ad5_row11_col1{\n            background-color:  #fcad90;\n            color:  #000000;\n        }#T_f4ad5_row11_col2{\n            background-color:  #d82422;\n            color:  #f1f1f1;\n        }#T_f4ad5_row12_col0{\n            background-color:  #fc8060;\n            color:  #000000;\n        }#T_f4ad5_row12_col1{\n            background-color:  #f85d42;\n            color:  #000000;\n        }#T_f4ad5_row12_col3{\n            background-color:  #fb6e4e;\n            color:  #000000;\n        }#T_f4ad5_row13_col0{\n            background-color:  #fdd1be;\n            color:  #000000;\n        }#T_f4ad5_row14_col1{\n            background-color:  #b71319;\n            color:  #f1f1f1;\n        }#T_f4ad5_row14_col2{\n            background-color:  #f34a36;\n            color:  #000000;\n        }#T_f4ad5_row14_col3{\n            background-color:  #fcc3ab;\n            color:  #000000;\n        }</style><table id=\"T_f4ad5_\" ><thead>    <tr>        <th class=\"blank level0\" ></th>        <th class=\"col_heading level0 col0\" >A</th>        <th class=\"col_heading level0 col1\" >B</th>        <th class=\"col_heading level0 col2\" >C</th>        <th class=\"col_heading level0 col3\" >D</th>    </tr></thead><tbody>\n                <tr>\n                        <th id=\"T_f4ad5_level0_row0\" class=\"row_heading level0 row0\" >0</th>\n                        <td id=\"T_f4ad5_row0_col0\" class=\"data row0 col0\" >8</td>\n                        <td id=\"T_f4ad5_row0_col1\" class=\"data row0 col1\" >80</td>\n                        <td id=\"T_f4ad5_row0_col2\" class=\"data row0 col2\" >64</td>\n                        <td id=\"T_f4ad5_row0_col3\" class=\"data row0 col3\" >45</td>\n            </tr>\n            <tr>\n                        <th id=\"T_f4ad5_level0_row1\" class=\"row_heading level0 row1\" >1</th>\n                        <td id=\"T_f4ad5_row1_col0\" class=\"data row1 col0\" >50</td>\n                        <td id=\"T_f4ad5_row1_col1\" class=\"data row1 col1\" >75</td>\n                        <td id=\"T_f4ad5_row1_col2\" class=\"data row1 col2\" >9</td>\n                        <td id=\"T_f4ad5_row1_col3\" class=\"data row1 col3\" >80</td>\n            </tr>\n            <tr>\n                        <th id=\"T_f4ad5_level0_row2\" class=\"row_heading level0 row2\" >2</th>\n                        <td id=\"T_f4ad5_row2_col0\" class=\"data row2 col0\" >41</td>\n                        <td id=\"T_f4ad5_row2_col1\" class=\"data row2 col1\" >85</td>\n                        <td id=\"T_f4ad5_row2_col2\" class=\"data row2 col2\" >32</td>\n                        <td id=\"T_f4ad5_row2_col3\" class=\"data row2 col3\" >83</td>\n            </tr>\n            <tr>\n                        <th id=\"T_f4ad5_level0_row3\" class=\"row_heading level0 row3\" >3</th>\n                        <td id=\"T_f4ad5_row3_col0\" class=\"data row3 col0\" >97</td>\n                        <td id=\"T_f4ad5_row3_col1\" class=\"data row3 col1\" >95</td>\n                        <td id=\"T_f4ad5_row3_col2\" class=\"data row3 col2\" >67</td>\n                        <td id=\"T_f4ad5_row3_col3\" class=\"data row3 col3\" >16</td>\n            </tr>\n            <tr>\n                        <th id=\"T_f4ad5_level0_row4\" class=\"row_heading level0 row4\" >4</th>\n                        <td id=\"T_f4ad5_row4_col0\" class=\"data row4 col0\" >10</td>\n                        <td id=\"T_f4ad5_row4_col1\" class=\"data row4 col1\" >6</td>\n                        <td id=\"T_f4ad5_row4_col2\" class=\"data row4 col2\" >19</td>\n                        <td id=\"T_f4ad5_row4_col3\" class=\"data row4 col3\" >59</td>\n            </tr>\n            <tr>\n                        <th id=\"T_f4ad5_level0_row5\" class=\"row_heading level0 row5\" >5</th>\n                        <td id=\"T_f4ad5_row5_col0\" class=\"data row5 col0\" >50</td>\n                        <td id=\"T_f4ad5_row5_col1\" class=\"data row5 col1\" >61</td>\n                        <td id=\"T_f4ad5_row5_col2\" class=\"data row5 col2\" >7</td>\n                        <td id=\"T_f4ad5_row5_col3\" class=\"data row5 col3\" >68</td>\n            </tr>\n            <tr>\n                        <th id=\"T_f4ad5_level0_row6\" class=\"row_heading level0 row6\" >6</th>\n                        <td id=\"T_f4ad5_row6_col0\" class=\"data row6 col0\" >60</td>\n                        <td id=\"T_f4ad5_row6_col1\" class=\"data row6 col1\" >88</td>\n                        <td id=\"T_f4ad5_row6_col2\" class=\"data row6 col2\" >92</td>\n                        <td id=\"T_f4ad5_row6_col3\" class=\"data row6 col3\" >27</td>\n            </tr>\n            <tr>\n                        <th id=\"T_f4ad5_level0_row7\" class=\"row_heading level0 row7\" >7</th>\n                        <td id=\"T_f4ad5_row7_col0\" class=\"data row7 col0\" >34</td>\n                        <td id=\"T_f4ad5_row7_col1\" class=\"data row7 col1\" >67</td>\n                        <td id=\"T_f4ad5_row7_col2\" class=\"data row7 col2\" >12</td>\n                        <td id=\"T_f4ad5_row7_col3\" class=\"data row7 col3\" >16</td>\n            </tr>\n            <tr>\n                        <th id=\"T_f4ad5_level0_row8\" class=\"row_heading level0 row8\" >8</th>\n                        <td id=\"T_f4ad5_row8_col0\" class=\"data row8 col0\" >11</td>\n                        <td id=\"T_f4ad5_row8_col1\" class=\"data row8 col1\" >3</td>\n                        <td id=\"T_f4ad5_row8_col2\" class=\"data row8 col2\" >22</td>\n                        <td id=\"T_f4ad5_row8_col3\" class=\"data row8 col3\" >95</td>\n            </tr>\n            <tr>\n                        <th id=\"T_f4ad5_level0_row9\" class=\"row_heading level0 row9\" >9</th>\n                        <td id=\"T_f4ad5_row9_col0\" class=\"data row9 col0\" >50</td>\n                        <td id=\"T_f4ad5_row9_col1\" class=\"data row9 col1\" >21</td>\n                        <td id=\"T_f4ad5_row9_col2\" class=\"data row9 col2\" >26</td>\n                        <td id=\"T_f4ad5_row9_col3\" class=\"data row9 col3\" >82</td>\n            </tr>\n            <tr>\n                        <th id=\"T_f4ad5_level0_row10\" class=\"row_heading level0 row10\" >10</th>\n                        <td id=\"T_f4ad5_row10_col0\" class=\"data row10 col0\" >63</td>\n                        <td id=\"T_f4ad5_row10_col1\" class=\"data row10 col1\" >73</td>\n                        <td id=\"T_f4ad5_row10_col2\" class=\"data row10 col2\" >73</td>\n                        <td id=\"T_f4ad5_row10_col3\" class=\"data row10 col3\" >77</td>\n            </tr>\n            <tr>\n                        <th id=\"T_f4ad5_level0_row11\" class=\"row_heading level0 row11\" >11</th>\n                        <td id=\"T_f4ad5_row11_col0\" class=\"data row11 col0\" >49</td>\n                        <td id=\"T_f4ad5_row11_col1\" class=\"data row11 col1\" >30</td>\n                        <td id=\"T_f4ad5_row11_col2\" class=\"data row11 col2\" >71</td>\n                        <td id=\"T_f4ad5_row11_col3\" class=\"data row11 col3\" >35</td>\n            </tr>\n            <tr>\n                        <th id=\"T_f4ad5_level0_row12\" class=\"row_heading level0 row12\" >12</th>\n                        <td id=\"T_f4ad5_row12_col0\" class=\"data row12 col0\" >47</td>\n                        <td id=\"T_f4ad5_row12_col1\" class=\"data row12 col1\" >52</td>\n                        <td id=\"T_f4ad5_row12_col2\" class=\"data row12 col2\" >26</td>\n                        <td id=\"T_f4ad5_row12_col3\" class=\"data row12 col3\" >52</td>\n            </tr>\n            <tr>\n                        <th id=\"T_f4ad5_level0_row13\" class=\"row_heading level0 row13\" >13</th>\n                        <td id=\"T_f4ad5_row13_col0\" class=\"data row13 col0\" >24</td>\n                        <td id=\"T_f4ad5_row13_col1\" class=\"data row13 col1\" >88</td>\n                        <td id=\"T_f4ad5_row13_col2\" class=\"data row13 col2\" >98</td>\n                        <td id=\"T_f4ad5_row13_col3\" class=\"data row13 col3\" >11</td>\n            </tr>\n            <tr>\n                        <th id=\"T_f4ad5_level0_row14\" class=\"row_heading level0 row14\" >14</th>\n                        <td id=\"T_f4ad5_row14_col0\" class=\"data row14 col0\" >98</td>\n                        <td id=\"T_f4ad5_row14_col1\" class=\"data row14 col1\" >78</td>\n                        <td id=\"T_f4ad5_row14_col2\" class=\"data row14 col2\" >60</td>\n                        <td id=\"T_f4ad5_row14_col3\" class=\"data row14 col3\" >30</td>\n            </tr>\n    </tbody></table>"
     },
     "metadata": {},
     "execution_count": 7
    }
   ],
   "source": [
    "df.style.background_gradient(cmap=\"Reds\")"
   ]
  },
  {
   "cell_type": "code",
   "execution_count": null,
   "metadata": {},
   "outputs": [],
   "source": []
  }
 ]
}